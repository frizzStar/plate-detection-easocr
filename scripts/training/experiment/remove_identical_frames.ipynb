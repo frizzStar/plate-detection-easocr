{
 "cells": [
  {
   "cell_type": "code",
   "execution_count": 3,
   "id": "b5ee8962",
   "metadata": {},
   "outputs": [],
   "source": [
    "import os\n",
    "import shutil\n",
    "from imagededup.methods import PHash\n",
    "from imagededup.methods import CNN\n",
    "from imagededup.utils import plot_duplicates"
   ]
  },
  {
   "cell_type": "code",
   "execution_count": 17,
   "id": "68c0b970",
   "metadata": {},
   "outputs": [],
   "source": [
    "def remove_duplicates(input_dir, output_dir, max_distance=10):\n",
    "    \"\"\"\n",
    "    Remove near-duplicate images from a directory\n",
    "    :param input_dir: Path to folder containing all frames\n",
    "    :param output_dir: Path to save unique frames\n",
    "    :param max_distance: PHash hamming distance threshold (0-64). Lower = more strict.\n",
    "                         Start with 10 (similar to ~0.85 similarity), adjust as needed.\n",
    "    \"\"\"\n",
    "    # Initialize perceptual hasher\n",
    "    phasher = PHash()\n",
    "\n",
    "    # Find duplicates\n",
    "    duplicates = phasher.find_duplicates_to_remove(image_dir=input_dir,\n",
    "                                                  max_distance_threshold=max_distance)\n",
    "\n",
    "    # Create output directory if not exists\n",
    "    os.makedirs(output_dir, exist_ok=True)\n",
    "\n",
    "    # Get all files sorted\n",
    "    all_files = sorted([f for f in os.listdir(input_dir) if f.lower().endswith(('.png', '.jpg', '.jpeg'))])\n",
    "    \n",
    "    # Copy unique files to output directory\n",
    "    copied_count = 0\n",
    "    for file in all_files:\n",
    "        if file not in duplicates:\n",
    "            src_path = os.path.join(input_dir, file)\n",
    "            dst_path = os.path.join(output_dir, file)\n",
    "            shutil.copy2(src_path, dst_path)\n",
    "            copied_count += 1\n",
    "            \n",
    "    print(f\"Original images: {len(all_files)}\")\n",
    "    print(f\"Unique images kept: {copied_count}\")\n",
    "    print(f\"Removed duplicates: {len(all_files) - copied_count}\")\n"
   ]
  },
  {
   "cell_type": "code",
   "execution_count": 23,
   "id": "6da46228",
   "metadata": {},
   "outputs": [
    {
     "name": "stderr",
     "output_type": "stream",
     "text": [
      "2025-05-15 12:48:31,576: INFO Start: Calculating hashes...\n",
      "100%|██████████| 3103/3103 [02:14<00:00, 22.99it/s]\n",
      "2025-05-15 12:50:49,471: INFO End: Calculating hashes!\n",
      "2025-05-15 12:50:49,476: INFO Start: Evaluating hamming distances for getting duplicates\n",
      "2025-05-15 12:50:49,478: INFO Start: Retrieving duplicates using BKTree algorithm\n",
      "100%|██████████| 3103/3103 [01:29<00:00, 34.67it/s]\n",
      "2025-05-15 12:52:25,160: INFO End: Retrieving duplicates using BKTree algorithm\n",
      "2025-05-15 12:52:25,164: INFO End: Evaluating hamming distances for getting duplicates\n"
     ]
    },
    {
     "name": "stdout",
     "output_type": "stream",
     "text": [
      "Original images: 3103\n",
      "Unique images kept: 500\n",
      "Removed duplicates: 2603\n"
     ]
    }
   ],
   "source": [
    "if __name__ == \"__main__\":\n",
    "    # ========== CONFIGURATION ========== #\n",
    "    INPUT_FOLDER = \"C:/Users/fahri/OneDrive/Documents/Skripsi/data/processed/data_09_mei_2025/video 3/images\"  # Change this\n",
    "    OUTPUT_FOLDER = \"C:/Users/fahri/OneDrive/Documents/Skripsi/data/processed/data_09_mei_2025/deduplicate_video3\"  # Change this\n",
    "    MAX_DISTANCE = 7  # Start with 10 (0=identical, 64=max different)\n",
    "    # =================================== #\n",
    "    \n",
    "    remove_duplicates(INPUT_FOLDER, OUTPUT_FOLDER, MAX_DISTANCE)"
   ]
  }
 ],
 "metadata": {
  "kernelspec": {
   "display_name": ".venv",
   "language": "python",
   "name": "python3"
  },
  "language_info": {
   "codemirror_mode": {
    "name": "ipython",
    "version": 3
   },
   "file_extension": ".py",
   "mimetype": "text/x-python",
   "name": "python",
   "nbconvert_exporter": "python",
   "pygments_lexer": "ipython3",
   "version": "3.11.9"
  }
 },
 "nbformat": 4,
 "nbformat_minor": 5
}
